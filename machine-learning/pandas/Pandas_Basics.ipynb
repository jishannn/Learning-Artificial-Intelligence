{
  "nbformat": 4,
  "nbformat_minor": 0,
  "metadata": {
    "colab": {
      "provenance": []
    },
    "kernelspec": {
      "name": "python3",
      "display_name": "Python 3"
    },
    "language_info": {
      "name": "python"
    }
  },
  "cells": [
    {
      "cell_type": "code",
      "execution_count": 1,
      "metadata": {
        "id": "3f7vuRmL5oBO"
      },
      "outputs": [],
      "source": [
        "import pandas as pd\n",
        "import numpy as np"
      ]
    },
    {
      "cell_type": "markdown",
      "source": [
        "**Pandas Series (1D Data)**"
      ],
      "metadata": {
        "id": "xaxVTTH26H8I"
      }
    },
    {
      "cell_type": "code",
      "source": [
        "data = [10, 20, 30, 40]\n",
        "index_labels = ['a', 'b', 'c', 'd']\n",
        "series = pd.Series(data, index=index_labels)  # allows access data using labels instead of index positions.\n",
        "print(series)"
      ],
      "metadata": {
        "colab": {
          "base_uri": "https://localhost:8080/"
        },
        "id": "c-dz_a8K5vGK",
        "outputId": "5f6c6804-3b50-4a99-d2c8-85562d3f6aa2"
      },
      "execution_count": 2,
      "outputs": [
        {
          "output_type": "stream",
          "name": "stdout",
          "text": [
            "a    10\n",
            "b    20\n",
            "c    30\n",
            "d    40\n",
            "dtype: int64\n"
          ]
        }
      ]
    },
    {
      "cell_type": "markdown",
      "source": [
        "**Pandas DataFrame (2D Table)**"
      ],
      "metadata": {
        "id": "6XxLZ61c6j-c"
      }
    },
    {
      "cell_type": "code",
      "source": [
        "data = {\n",
        "    \"Name\": [\"Alice\", \"Bob\", \"John\"],\n",
        "    \"Age\": [23, 26, 30],\n",
        "    \"Salary\": [50000, 60000, 70000]\n",
        "}\n",
        "\n",
        "df = pd.DataFrame(data)\n",
        "print(df)"
      ],
      "metadata": {
        "colab": {
          "base_uri": "https://localhost:8080/"
        },
        "id": "G3L3H4Pu6bFN",
        "outputId": "6f315e36-fa3e-4a62-e18e-71a0fd970c24"
      },
      "execution_count": 11,
      "outputs": [
        {
          "output_type": "stream",
          "name": "stdout",
          "text": [
            "    Name  Age  Salary\n",
            "0  Alice   23   50000\n",
            "1    Bob   26   60000\n",
            "2   John   30   70000\n"
          ]
        }
      ]
    },
    {
      "cell_type": "markdown",
      "source": [
        "**Read CSV File in Pandas**"
      ],
      "metadata": {
        "id": "Lr3HopbB72R8"
      }
    },
    {
      "cell_type": "code",
      "source": [
        "df = pd.read_csv(\"netflix_titles.csv\")\n",
        "print(df.head())   # Show first 5 rows"
      ],
      "metadata": {
        "colab": {
          "base_uri": "https://localhost:8080/"
        },
        "id": "VMZ-ja4d7GrO",
        "outputId": "7ee1482c-d6f5-4de8-bc45-473a12146b4e"
      },
      "execution_count": 15,
      "outputs": [
        {
          "output_type": "stream",
          "name": "stdout",
          "text": [
            "  show_id     type                  title         director  \\\n",
            "0      s1    Movie   Dick Johnson Is Dead  Kirsten Johnson   \n",
            "1      s2  TV Show          Blood & Water              NaN   \n",
            "2      s3  TV Show              Ganglands  Julien Leclercq   \n",
            "3      s4  TV Show  Jailbirds New Orleans              NaN   \n",
            "4      s5  TV Show           Kota Factory              NaN   \n",
            "\n",
            "                                                cast        country  \\\n",
            "0                                                NaN  United States   \n",
            "1  Ama Qamata, Khosi Ngema, Gail Mabalane, Thaban...   South Africa   \n",
            "2  Sami Bouajila, Tracy Gotoas, Samuel Jouy, Nabi...            NaN   \n",
            "3                                                NaN            NaN   \n",
            "4  Mayur More, Jitendra Kumar, Ranjan Raj, Alam K...          India   \n",
            "\n",
            "           date_added  release_year rating   duration  \\\n",
            "0  September 25, 2021          2020  PG-13     90 min   \n",
            "1  September 24, 2021          2021  TV-MA  2 Seasons   \n",
            "2  September 24, 2021          2021  TV-MA   1 Season   \n",
            "3  September 24, 2021          2021  TV-MA   1 Season   \n",
            "4  September 24, 2021          2021  TV-MA  2 Seasons   \n",
            "\n",
            "                                           listed_in  \\\n",
            "0                                      Documentaries   \n",
            "1    International TV Shows, TV Dramas, TV Mysteries   \n",
            "2  Crime TV Shows, International TV Shows, TV Act...   \n",
            "3                             Docuseries, Reality TV   \n",
            "4  International TV Shows, Romantic TV Shows, TV ...   \n",
            "\n",
            "                                         description  \n",
            "0  As her father nears the end of his life, filmm...  \n",
            "1  After crossing paths at a party, a Cape Town t...  \n",
            "2  To protect his family from a powerful drug lor...  \n",
            "3  Feuds, flirtations and toilet talk go down amo...  \n",
            "4  In a city of coaching centers known to train I...  \n"
          ]
        }
      ]
    },
    {
      "cell_type": "code",
      "source": [
        "print(df.info())       # Summary of columns, non-null values, and types\n",
        "print(df.describe())   # Statistical summary"
      ],
      "metadata": {
        "colab": {
          "base_uri": "https://localhost:8080/"
        },
        "id": "Og5B6gSG8Dxr",
        "outputId": "6e39965e-eba6-4b92-eb3c-2645bf0457f4"
      },
      "execution_count": 16,
      "outputs": [
        {
          "output_type": "stream",
          "name": "stdout",
          "text": [
            "<class 'pandas.core.frame.DataFrame'>\n",
            "RangeIndex: 8807 entries, 0 to 8806\n",
            "Data columns (total 12 columns):\n",
            " #   Column        Non-Null Count  Dtype \n",
            "---  ------        --------------  ----- \n",
            " 0   show_id       8807 non-null   object\n",
            " 1   type          8807 non-null   object\n",
            " 2   title         8807 non-null   object\n",
            " 3   director      6173 non-null   object\n",
            " 4   cast          7982 non-null   object\n",
            " 5   country       7976 non-null   object\n",
            " 6   date_added    8797 non-null   object\n",
            " 7   release_year  8807 non-null   int64 \n",
            " 8   rating        8803 non-null   object\n",
            " 9   duration      8804 non-null   object\n",
            " 10  listed_in     8807 non-null   object\n",
            " 11  description   8807 non-null   object\n",
            "dtypes: int64(1), object(11)\n",
            "memory usage: 825.8+ KB\n",
            "None\n",
            "       release_year\n",
            "count   8807.000000\n",
            "mean    2014.180198\n",
            "std        8.819312\n",
            "min     1925.000000\n",
            "25%     2013.000000\n",
            "50%     2017.000000\n",
            "75%     2019.000000\n",
            "max     2021.000000\n"
          ]
        }
      ]
    },
    {
      "cell_type": "markdown",
      "source": [
        "**Data Cleaning and Preprocessing**"
      ],
      "metadata": {
        "id": "JoCELBMR8jzx"
      }
    },
    {
      "cell_type": "markdown",
      "source": [
        "Handling Missing Values"
      ],
      "metadata": {
        "id": "H0VKDqpa8p1E"
      }
    },
    {
      "cell_type": "code",
      "source": [
        "print(df.isnull().sum())    # Check missing values in each column\n",
        "df = df.dropna()           # Remove rows with missing values"
      ],
      "metadata": {
        "colab": {
          "base_uri": "https://localhost:8080/"
        },
        "id": "IpLRHcuh8TeT",
        "outputId": "e9fb571b-d572-43c2-9085-46e8e79051e7"
      },
      "execution_count": 18,
      "outputs": [
        {
          "output_type": "stream",
          "name": "stdout",
          "text": [
            "show_id         0\n",
            "type            0\n",
            "title           0\n",
            "director        0\n",
            "cast            0\n",
            "country         0\n",
            "date_added      0\n",
            "release_year    0\n",
            "rating          0\n",
            "duration        0\n",
            "listed_in       0\n",
            "description     0\n",
            "dtype: int64\n"
          ]
        }
      ]
    },
    {
      "cell_type": "markdown",
      "source": [
        "Renaming Columns"
      ],
      "metadata": {
        "id": "GKk120Kx9H0k"
      }
    },
    {
      "cell_type": "code",
      "source": [
        "df.rename(columns={'title': 'Movie_Title'}, inplace=True)\n",
        "print(df.columns)    # Check updated column names"
      ],
      "metadata": {
        "colab": {
          "base_uri": "https://localhost:8080/"
        },
        "id": "SbD5RCoz8xVq",
        "outputId": "3e58514b-a984-4715-a6b1-5b9c0f8743cd"
      },
      "execution_count": 20,
      "outputs": [
        {
          "output_type": "stream",
          "name": "stdout",
          "text": [
            "Index(['show_id', 'type', 'Movie_Title', 'director', 'cast', 'country',\n",
            "       'date_added', 'release_year', 'rating', 'duration', 'listed_in',\n",
            "       'description'],\n",
            "      dtype='object')\n"
          ]
        }
      ]
    },
    {
      "cell_type": "markdown",
      "source": [
        "Filtering Data"
      ],
      "metadata": {
        "id": "5kC5ieHG9yj6"
      }
    },
    {
      "cell_type": "code",
      "source": [
        "new_df = df[df['release_year'] > 2015]   # Find all movies released after 2015\n",
        "print(new_df.head())"
      ],
      "metadata": {
        "colab": {
          "base_uri": "https://localhost:8080/"
        },
        "id": "lndU8eZ-9TOa",
        "outputId": "8a5beae1-d533-4f41-80c2-0219ab947bc7"
      },
      "execution_count": 21,
      "outputs": [
        {
          "output_type": "stream",
          "name": "stdout",
          "text": [
            "   show_id     type                    Movie_Title             director  \\\n",
            "8       s9  TV Show  The Great British Baking Show      Andy Devonshire   \n",
            "9      s10    Movie                   The Starling       Theodore Melfi   \n",
            "12     s13    Movie                   Je Suis Karl  Christian Schwochow   \n",
            "38     s39    Movie            Birth of the Dragon         George Nolfi   \n",
            "73     s74    Movie                   King of Boys         Kemi Adetiba   \n",
            "\n",
            "                                                 cast  \\\n",
            "8   Mel Giedroyc, Sue Perkins, Mary Berry, Paul Ho...   \n",
            "9   Melissa McCarthy, Chris O'Dowd, Kevin Kline, T...   \n",
            "12  Luna Wedler, Jannis Niewöhner, Milan Peschel, ...   \n",
            "38  Billy Magnussen, Ron Yuan, Qu Jingjing, Terry ...   \n",
            "73  Sola Sobowale, Adesua Etomi, Remilekun \"Remini...   \n",
            "\n",
            "                         country          date_added  release_year rating  \\\n",
            "8                 United Kingdom  September 24, 2021          2021  TV-14   \n",
            "9                  United States  September 24, 2021          2021  PG-13   \n",
            "12       Germany, Czech Republic  September 23, 2021          2021  TV-MA   \n",
            "38  China, Canada, United States  September 16, 2021          2017  PG-13   \n",
            "73                       Nigeria  September 14, 2021          2018  TV-MA   \n",
            "\n",
            "     duration                     listed_in  \\\n",
            "8   9 Seasons  British TV Shows, Reality TV   \n",
            "9     104 min              Comedies, Dramas   \n",
            "12    127 min  Dramas, International Movies   \n",
            "38     96 min    Action & Adventure, Dramas   \n",
            "73    182 min  Dramas, International Movies   \n",
            "\n",
            "                                          description  \n",
            "8   A talented batch of amateur bakers face off in...  \n",
            "9   A woman adjusting to life after a loss contend...  \n",
            "12  After most of her family is murdered in a terr...  \n",
            "38  A young Bruce Lee angers kung fu traditionalis...  \n",
            "73  When a powerful businesswoman’s political ambi...  \n"
          ]
        }
      ]
    },
    {
      "cell_type": "markdown",
      "source": [
        "**Data Manipulation**"
      ],
      "metadata": {
        "id": "sxNy0m4a-Lby"
      }
    },
    {
      "cell_type": "markdown",
      "source": [
        "Sorting Values"
      ],
      "metadata": {
        "id": "ASWtgSIb-P_-"
      }
    },
    {
      "cell_type": "code",
      "source": [
        "df = df.sort_values(by='release_year', ascending=False)  # Sort movies by release year\n",
        "print(df.head())"
      ],
      "metadata": {
        "colab": {
          "base_uri": "https://localhost:8080/"
        },
        "id": "2gwhoHvv97kh",
        "outputId": "70bde7bc-9802-460d-8241-b10f14ec0f27"
      },
      "execution_count": 23,
      "outputs": [
        {
          "output_type": "stream",
          "name": "stdout",
          "text": [
            "     show_id   type                                        Movie_Title  \\\n",
            "1184   s1185  Movie                                The Yin Yang Master   \n",
            "1220   s1221  Movie                                   Coven of Sisters   \n",
            "1198   s1199  Movie               RebellComedy: Straight Outta the Zoo   \n",
            "1195   s1196  Movie  Operation Varsity Blues: The College Admission...   \n",
            "1150   s1151  Movie                    7 Yards: The Chris Norton Story   \n",
            "\n",
            "              director                                               cast  \\\n",
            "1184         Li Weiran  Chen Kun, Zhou Xun, Qu Chuxiao, Shen Yue, Will...   \n",
            "1220      Pablo Agüero  Alex Brendemühl, Amaia Aberasturi, Daniel Fane...   \n",
            "1198  Ladislaus Kiraly  Khalid Bounouar, Alain Frei, Babak Ghassim, Be...   \n",
            "1195       Chris Smith                                     Matthew Modine   \n",
            "1150     Jonathon Link                                       Chris Norton   \n",
            "\n",
            "               country      date_added  release_year rating duration  \\\n",
            "1184             China  March 19, 2021          2021  TV-14  120 min   \n",
            "1220  Spain, Argentina  March 11, 2021          2021  TV-MA   92 min   \n",
            "1198           Germany  March 16, 2021          2021  TV-MA   74 min   \n",
            "1195     United States  March 17, 2021          2021      R  100 min   \n",
            "1150     United States  March 30, 2021          2021  TV-PG   93 min   \n",
            "\n",
            "                                             listed_in  \\\n",
            "1184          Action & Adventure, International Movies   \n",
            "1220  Dramas, Independent Movies, International Movies   \n",
            "1198                                   Stand-Up Comedy   \n",
            "1195                                     Documentaries   \n",
            "1150                                     Documentaries   \n",
            "\n",
            "                                            description  \n",
            "1184  A feud erupts between realms, and Yin Yang mas...  \n",
            "1220  Basque Country, 1609. To postpone their execut...  \n",
            "1198  The comics of RebellComedy take the stage and ...  \n",
            "1195  Reenactments drive this documentary investigat...  \n",
            "1150  The true story of former college football play...  \n"
          ]
        }
      ]
    },
    {
      "cell_type": "markdown",
      "source": [
        "**Grouping Data**"
      ],
      "metadata": {
        "id": "btRa7b3A-rkJ"
      }
    },
    {
      "cell_type": "code",
      "source": [
        "# Count movies per country\n",
        "print(df.groupby('country')['Movie_Title'].count().sort_values(ascending=False))"
      ],
      "metadata": {
        "colab": {
          "base_uri": "https://localhost:8080/"
        },
        "id": "R8y6wuUV-bVp",
        "outputId": "69a531de-2e67-46db-d9cc-74e21a0f0b37"
      },
      "execution_count": 25,
      "outputs": [
        {
          "output_type": "stream",
          "name": "stdout",
          "text": [
            "country\n",
            "United States                           1846\n",
            "India                                    875\n",
            "United Kingdom                           183\n",
            "Canada                                   107\n",
            "Spain                                     91\n",
            "                                        ... \n",
            "Indonesia, United Kingdom                  1\n",
            "Indonesia, South Korea, Singapore          1\n",
            "Indonesia, Netherlands                     1\n",
            "India, United Kingdom, France, Qatar       1\n",
            "Zimbabwe                                   1\n",
            "Name: Movie_Title, Length: 604, dtype: int64\n"
          ]
        }
      ]
    },
    {
      "cell_type": "markdown",
      "source": [
        "**Data Visualization**"
      ],
      "metadata": {
        "id": "SLD5Cy75_Yzv"
      }
    },
    {
      "cell_type": "code",
      "source": [
        "import matplotlib.pyplot as plt\n",
        "import seaborn as sns"
      ],
      "metadata": {
        "id": "aAtwZuTZ_E_i"
      },
      "execution_count": 27,
      "outputs": []
    },
    {
      "cell_type": "code",
      "source": [
        "plt.figure(figsize=(10, 5))\n",
        "sns.countplot(x='release_year', data=df, order=df['release_year'].value_counts().index[:10])\n",
        "plt.xticks(rotation=45)\n",
        "plt.title('Number of Movies per year')\n",
        "plt.show()"
      ],
      "metadata": {
        "colab": {
          "base_uri": "https://localhost:8080/",
          "height": 406
        },
        "id": "Oe2aJ_OW_6s9",
        "outputId": "ec788b36-45c8-480a-9cbb-cb18a14ebdb7"
      },
      "execution_count": 28,
      "outputs": [
        {
          "output_type": "display_data",
          "data": {
            "text/plain": [
              "<Figure size 1000x500 with 1 Axes>"
            ],
            "image/png": "[encoded data removed]"
          },
          "metadata": {}
        }
      ]
    }
  ]
}