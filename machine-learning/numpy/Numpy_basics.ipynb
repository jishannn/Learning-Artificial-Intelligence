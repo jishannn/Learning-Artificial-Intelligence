{
  "nbformat": 4,
  "nbformat_minor": 0,
  "metadata": {
    "colab": {
      "provenance": []
    },
    "kernelspec": {
      "name": "python3",
      "display_name": "Python 3"
    },
    "language_info": {
      "name": "python"
    }
  },
  "cells": [
    {
      "cell_type": "code",
      "execution_count": 1,
      "metadata": {
        "id": "2fBbw0kv3MsQ"
      },
      "outputs": [],
      "source": [
        "import numpy as np"
      ]
    },
    {
      "cell_type": "markdown",
      "source": [
        "**Creating Numpy Arrays**"
      ],
      "metadata": {
        "id": "9a6IYPIP3fub"
      }
    },
    {
      "cell_type": "code",
      "source": [
        "arr1 = np.array([1, 2, 3, 4])   # 1D array\n",
        "arr2 = np.array([ [1, 2, 3], [4, 5, 6] ])  # 2D array\n",
        "\n",
        "print(arr1)\n",
        "print(arr2)"
      ],
      "metadata": {
        "colab": {
          "base_uri": "https://localhost:8080/"
        },
        "id": "vCVBZ2vt3eNM",
        "outputId": "a4e4787c-8568-4c5e-f08d-436236724703"
      },
      "execution_count": 4,
      "outputs": [
        {
          "output_type": "stream",
          "name": "stdout",
          "text": [
            "[1 2 3 4]\n",
            "[[1 2 3]\n",
            " [4 5 6]]\n"
          ]
        }
      ]
    },
    {
      "cell_type": "markdown",
      "source": [
        "**Using: np.arange(), np.linspace(), np.zeros(), np.ones(), np.eye()**"
      ],
      "metadata": {
        "id": "q3X5hkZA4U19"
      }
    },
    {
      "cell_type": "code",
      "source": [
        "arr = np.arange(1, 10, 2)   # [1, 3, 5, 7, 9]\n",
        "arr_linspace = np.linspace(0, 1, 5)  # [0. 0.25 0.5 0.75 1.]\n",
        "zeros = np.zeros((2, 3))          # [[0. 0. 0.] [0. 0. 0.]]  -- 2x3 matrix filled with 0s\n",
        "ones = np.ones((3, 3))            # [[1. 1. 1.] [1. 1. 1.]] -- 3x3 matrix filled with 1s\n",
        "identity_matrix = np.eye(3)       # [[1. 0. 0.] [0. 1. 0.] [0. 0. 1.]] -- 3x3 identity matrix\n",
        "\n",
        "print(arr, arr_linspace, zeros, ones, identity_matrix)"
      ],
      "metadata": {
        "colab": {
          "base_uri": "https://localhost:8080/"
        },
        "id": "GKpmrHLh4GSh",
        "outputId": "dd05efc6-d465-425c-a290-4090ab5fb23e"
      },
      "execution_count": 6,
      "outputs": [
        {
          "output_type": "stream",
          "name": "stdout",
          "text": [
            "[1 3 5 7 9] [0.   0.25 0.5  0.75 1.  ] [[0. 0. 0.]\n",
            " [0. 0. 0.]] [[1. 1. 1.]\n",
            " [1. 1. 1.]\n",
            " [1. 1. 1.]] [[1. 0. 0.]\n",
            " [0. 1. 0.]\n",
            " [0. 0. 1.]]\n"
          ]
        }
      ]
    },
    {
      "cell_type": "markdown",
      "source": [
        "**Shape, Size, and Dimensionality of Arrays**"
      ],
      "metadata": {
        "id": "dPh_G8d45ttX"
      }
    },
    {
      "cell_type": "markdown",
      "source": [
        "Checking Properties of an Array"
      ],
      "metadata": {
        "id": "VMkQSgbD18zk"
      }
    },
    {
      "cell_type": "code",
      "source": [
        "arr = np.array([[1, 2, 3], [4, 5, 6]])\n",
        "\n",
        "print(arr.shape)  # (2, 3)\n",
        "print(arr.size)   # 6\n",
        "print(arr.ndim)   # 2\n",
        "print(arr.dtype)  # int64 (or int32 depends on system)"
      ],
      "metadata": {
        "colab": {
          "base_uri": "https://localhost:8080/"
        },
        "id": "kMiHfFGe4yYx",
        "outputId": "44bb85ae-201e-4a23-ea1f-b81d06748b98"
      },
      "execution_count": 7,
      "outputs": [
        {
          "output_type": "stream",
          "name": "stdout",
          "text": [
            "(2, 3)\n",
            "6\n",
            "2\n",
            "int64\n"
          ]
        }
      ]
    },
    {
      "cell_type": "markdown",
      "source": [
        "**Indexing and Slicing**"
      ],
      "metadata": {
        "id": "BZpixyio6fct"
      }
    },
    {
      "cell_type": "markdown",
      "source": [
        "Basic indexing"
      ],
      "metadata": {
        "id": "jQ8mrPEI14iY"
      }
    },
    {
      "cell_type": "code",
      "source": [
        "arr = np.array([10, 20, 30, 40, 50])\n",
        "print(arr[0])   # 10\n",
        "print(arr[-1])  # 50"
      ],
      "metadata": {
        "id": "l8hleOjH6Ciq",
        "colab": {
          "base_uri": "https://localhost:8080/"
        },
        "outputId": "89bd13c9-f1a7-4008-c66c-150b68065965"
      },
      "execution_count": 8,
      "outputs": [
        {
          "output_type": "stream",
          "name": "stdout",
          "text": [
            "10\n",
            "50\n"
          ]
        }
      ]
    },
    {
      "cell_type": "markdown",
      "source": [
        "2D Indexing"
      ],
      "metadata": {
        "id": "1P5YISbD1yCJ"
      }
    },
    {
      "cell_type": "code",
      "source": [
        "arr2D = np.array([ [1, 2, 3], [4, 5, 6] ])\n",
        "print(arr2D[0, 1])     # 2 (Row 0, Column 1)\n",
        "print(arr2D[:, 1])     # [2 5]  (All rows, Column 1)"
      ],
      "metadata": {
        "colab": {
          "base_uri": "https://localhost:8080/"
        },
        "id": "q4hlUta9-z3g",
        "outputId": "3d79924b-dadd-45df-a12a-dbfc89565cc8"
      },
      "execution_count": 12,
      "outputs": [
        {
          "output_type": "stream",
          "name": "stdout",
          "text": [
            "2\n",
            "[2 5]\n"
          ]
        }
      ]
    },
    {
      "cell_type": "markdown",
      "source": [
        "Slicing"
      ],
      "metadata": {
        "id": "zFYEqWer11dd"
      }
    },
    {
      "cell_type": "code",
      "source": [
        "arr = np.array([10, 20, 30, 40, 50])\n",
        "print(arr[1:4])      # [20 30 40]\n",
        "print(arr[::-1])     # [50 40 30 20 10]"
      ],
      "metadata": {
        "colab": {
          "base_uri": "https://localhost:8080/"
        },
        "id": "S01O-m3y_WGp",
        "outputId": "da7a4e9a-0d6e-4e37-9eb2-099d0c577819"
      },
      "execution_count": 13,
      "outputs": [
        {
          "output_type": "stream",
          "name": "stdout",
          "text": [
            "[20 30 40]\n",
            "[50 40 30 20 10]\n"
          ]
        }
      ]
    },
    {
      "cell_type": "markdown",
      "source": [
        "**Broadcasting and Vectorized Operations**"
      ],
      "metadata": {
        "id": "qNLTwpqtAMTE"
      }
    },
    {
      "cell_type": "markdown",
      "source": [
        "Element-wise Operations"
      ],
      "metadata": {
        "id": "l3dRW6e6AZq_"
      }
    },
    {
      "cell_type": "code",
      "source": [
        "a = np.array([1, 2, 3])\n",
        "b = np.array([4, 5, 6])\n",
        "\n",
        "print(a + b)\n",
        "print(a * b)\n",
        "print(a ** 2)"
      ],
      "metadata": {
        "colab": {
          "base_uri": "https://localhost:8080/"
        },
        "id": "QZG4827i_5NY",
        "outputId": "8e7113cb-d1be-4a34-9cf6-60855a9d5942"
      },
      "execution_count": 16,
      "outputs": [
        {
          "output_type": "stream",
          "name": "stdout",
          "text": [
            "[5 7 9]\n",
            "[ 4 10 18]\n",
            "[1 4 9]\n"
          ]
        }
      ]
    },
    {
      "cell_type": "markdown",
      "source": [
        "Broadcasting Example"
      ],
      "metadata": {
        "id": "GmEu0lh1BFGk"
      }
    },
    {
      "cell_type": "code",
      "source": [
        "A = np.array([[1], [2], [3]])   # Shape(3, 1)\n",
        "B = np.array([4, 5, 6])         # Shape(1, 3)\n",
        "\n",
        "print(A + B)\n",
        "# output\n",
        "# [[5 6 7]\n",
        "#  [6 7 8]\n",
        "#  [7 8 9]]"
      ],
      "metadata": {
        "colab": {
          "base_uri": "https://localhost:8080/"
        },
        "id": "y1kItxuDAq3x",
        "outputId": "dcb580a7-686d-495a-d1bb-5cac6b1a122d"
      },
      "execution_count": 17,
      "outputs": [
        {
          "output_type": "stream",
          "name": "stdout",
          "text": [
            "[[5 6 7]\n",
            " [6 7 8]\n",
            " [7 8 9]]\n"
          ]
        }
      ]
    },
    {
      "cell_type": "markdown",
      "source": [
        "**Mathematical Functions**"
      ],
      "metadata": {
        "id": "DKvyjFIuBtNU"
      }
    },
    {
      "cell_type": "code",
      "source": [
        "arr = np.array([1, 2, 3, 4, 5])\n",
        "\n",
        "print(np.sum(arr))     # 15\n",
        "print(np.mean(arr))    # 3.0\n",
        "print(np.std(arr))     # 1.4142 (Standard deviation or std)\n",
        "print(np.max(arr))     # 5\n",
        "print(np.min(arr))     # 1"
      ],
      "metadata": {
        "colab": {
          "base_uri": "https://localhost:8080/"
        },
        "id": "80eBN7AxBVnh",
        "outputId": "62bea08c-af0d-4947-f4d5-1e78e765a015"
      },
      "execution_count": 20,
      "outputs": [
        {
          "output_type": "stream",
          "name": "stdout",
          "text": [
            "15\n",
            "3.0\n",
            "1.4142135623730951\n",
            "5\n",
            "1\n"
          ]
        }
      ]
    },
    {
      "cell_type": "markdown",
      "source": [
        "**Linear Algebra Operations**"
      ],
      "metadata": {
        "id": "wo3iwd1Fx18t"
      }
    },
    {
      "cell_type": "markdown",
      "source": [
        "Matrix Multiplication (np.dot())"
      ],
      "metadata": {
        "id": "kGz_Vp08x77J"
      }
    },
    {
      "cell_type": "code",
      "source": [
        "A = np.array([ [1, 2], [3, 4] ])\n",
        "B = np.array([ [5, 6], [7, 8] ])\n",
        "\n",
        "print(np.dot(A, B))\n",
        "# output\n",
        "# [[19 22]\n",
        "# [43 50]]"
      ],
      "metadata": {
        "colab": {
          "base_uri": "https://localhost:8080/"
        },
        "id": "tKbFCeFRCCcR",
        "outputId": "36f149c1-3c45-4e72-a6aa-0f467e77ad81"
      },
      "execution_count": 3,
      "outputs": [
        {
          "output_type": "stream",
          "name": "stdout",
          "text": [
            "[[19 22]\n",
            " [43 50]]\n"
          ]
        }
      ]
    },
    {
      "cell_type": "markdown",
      "source": [
        "Matrix Inversion"
      ],
      "metadata": {
        "id": "jMpROoERylu6"
      }
    },
    {
      "cell_type": "code",
      "source": [
        "A = np.array([ [1, 2], [3, 4] ])\n",
        "A_inv = np.linalg.inv(A)\n",
        "print(A_inv)"
      ],
      "metadata": {
        "colab": {
          "base_uri": "https://localhost:8080/"
        },
        "id": "b-gsahHtyOK5",
        "outputId": "dce8451f-c050-4ce7-9df5-8d1acb298342"
      },
      "execution_count": 5,
      "outputs": [
        {
          "output_type": "stream",
          "name": "stdout",
          "text": [
            "[[-2.   1. ]\n",
            " [ 1.5 -0.5]]\n"
          ]
        }
      ]
    },
    {
      "cell_type": "markdown",
      "source": [
        "Eigenvalues and Eigenvectors"
      ],
      "metadata": {
        "id": "cAMhmnJay--h"
      }
    },
    {
      "cell_type": "code",
      "source": [
        "vals, vecs = np.linalg.eig(A)\n",
        "print('Eigenvalues:', vals)\n",
        "print('Eigenvectors:\\n', vecs)"
      ],
      "metadata": {
        "colab": {
          "base_uri": "https://localhost:8080/"
        },
        "id": "phhJ4pSQyynh",
        "outputId": "32a76dae-8b0d-4d8f-9b80-399460c64c88"
      },
      "execution_count": 8,
      "outputs": [
        {
          "output_type": "stream",
          "name": "stdout",
          "text": [
            "Eigenvalues: [-0.37228132  5.37228132]\n",
            "Eigenvectors:\n",
            " [[-0.82456484 -0.41597356]\n",
            " [ 0.56576746 -0.90937671]]\n"
          ]
        }
      ]
    },
    {
      "cell_type": "markdown",
      "source": [
        "**Random Number Generation**"
      ],
      "metadata": {
        "id": "Ib5M-KhgzYUX"
      }
    },
    {
      "cell_type": "code",
      "source": [
        "rand_num = np.random.rand(3)                     # 3 random numbers between 0 and 1\n",
        "rand_ints = np.random.randint(1, 10, (2, 2))     # 2x2 matrix with random integers\n",
        "\n",
        "print(rand_num, rand_ints)"
      ],
      "metadata": {
        "colab": {
          "base_uri": "https://localhost:8080/"
        },
        "id": "zy56HDMczL2x",
        "outputId": "e8505bab-7415-4f9f-8db2-a04f4988b9b6"
      },
      "execution_count": 10,
      "outputs": [
        {
          "output_type": "stream",
          "name": "stdout",
          "text": [
            "[0.94956703 0.52932682 0.81458025] [[1 9]\n",
            " [5 5]]\n"
          ]
        }
      ]
    },
    {
      "cell_type": "markdown",
      "source": [
        "**Handling Missing Values**"
      ],
      "metadata": {
        "id": "9JMq8f9Hz6qv"
      }
    },
    {
      "cell_type": "code",
      "source": [
        "arr = np.array([1, 2, np.nan, 4])\n",
        "print(np.nanmean(arr))     # Ignores NaN while calculating mean"
      ],
      "metadata": {
        "colab": {
          "base_uri": "https://localhost:8080/"
        },
        "id": "joUOjej-ztHZ",
        "outputId": "208c9913-d6f9-4a0a-ab4c-5103ef58c64d"
      },
      "execution_count": 11,
      "outputs": [
        {
          "output_type": "stream",
          "name": "stdout",
          "text": [
            "2.3333333333333335\n"
          ]
        }
      ]
    },
    {
      "cell_type": "markdown",
      "source": [
        "**Performance Optimization**"
      ],
      "metadata": {
        "id": "Gm491FCz0Mw-"
      }
    },
    {
      "cell_type": "code",
      "source": [
        "import time\n",
        "\n",
        "arr = np.random.rand(1000000)\n",
        "\n",
        "start = time.time()\n",
        "sum1 = np.sum(arr)      # Fast Numpy operation\n",
        "end = time.time()\n",
        "print('Numpy sum:', end - start)"
      ],
      "metadata": {
        "colab": {
          "base_uri": "https://localhost:8080/"
        },
        "id": "whpwJTV20F3Z",
        "outputId": "9c81c114-beab-4642-b84f-7813ef1edd40"
      },
      "execution_count": 12,
      "outputs": [
        {
          "output_type": "stream",
          "name": "stdout",
          "text": [
            "Numpy sum: 0.0011301040649414062\n"
          ]
        }
      ]
    },
    {
      "cell_type": "markdown",
      "source": [
        "**Memory Layout and Strides**"
      ],
      "metadata": {
        "id": "H8nK3rdF03jd"
      }
    },
    {
      "cell_type": "code",
      "source": [
        " # Memory step size in bytes\n",
        "arr1 = np.array([[1, 2, 3], [4, 5, 6]], dtype=np.int32)\n",
        "arr2 = np.array([[1, 2, 3], [4, 5, 6]], dtype=np.int64)\n",
        "print(arr1.strides)\n",
        "print(arr2.strides)"
      ],
      "metadata": {
        "colab": {
          "base_uri": "https://localhost:8080/"
        },
        "id": "w5n2e_610xXT",
        "outputId": "21900e5f-d941-4d4e-987c-022a6a149cb8"
      },
      "execution_count": 16,
      "outputs": [
        {
          "output_type": "stream",
          "name": "stdout",
          "text": [
            "(12, 4)\n",
            "(24, 8)\n"
          ]
        }
      ]
    },
    {
      "cell_type": "code",
      "source": [],
      "metadata": {
        "id": "ncBd4zuQ1JES"
      },
      "execution_count": null,
      "outputs": []
    }
  ]
}