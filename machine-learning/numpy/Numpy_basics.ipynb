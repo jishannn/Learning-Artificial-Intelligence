{
  "nbformat": 4,
  "nbformat_minor": 0,
  "metadata": {
    "colab": {
      "provenance": []
    },
    "kernelspec": {
      "name": "python3",
      "display_name": "Python 3"
    },
    "language_info": {
      "name": "python"
    }
  },
  "cells": [
    {
      "cell_type": "code",
      "execution_count": null,
      "metadata": {
        "id": "2fBbw0kv3MsQ"
      },
      "outputs": [],
      "source": [
        "import numpy as np"
      ]
    },
    {
      "cell_type": "markdown",
      "source": [
        "**Creating Numpy Arrays**"
      ],
      "metadata": {
        "id": "9a6IYPIP3fub"
      }
    },
    {
      "cell_type": "code",
      "source": [
        "arr1 = np.array([1, 2, 3, 4])   # 1D array\n",
        "arr2 = np.array([ [1, 2, 3], [4, 5, 6] ])  # 2D array\n",
        "\n",
        "print(arr1)\n",
        "print(arr2)"
      ],
      "metadata": {
        "colab": {
          "base_uri": "https://localhost:8080/"
        },
        "id": "vCVBZ2vt3eNM",
        "outputId": "6ddfface-2666-4e36-ea3c-144209c5b175"
      },
      "execution_count": null,
      "outputs": [
        {
          "output_type": "stream",
          "name": "stdout",
          "text": [
            "[1 2 3 4]\n",
            "[[1 2 3]\n",
            " [4 5 6]]\n"
          ]
        }
      ]
    },
    {
      "cell_type": "markdown",
      "source": [
        "**Using: np.arange(), np.linspace(), np.zeros(), np.ones(), np.eye()**"
      ],
      "metadata": {
        "id": "q3X5hkZA4U19"
      }
    },
    {
      "cell_type": "code",
      "source": [
        "arr = np.arange(1, 10, 2)   # [1, 3, 5, 7, 9]\n",
        "arr_linspace = np.linspace(0, 1, 5)  # [0. 0.25 0.5 0.75 1.]\n",
        "zeros = np.zeros((2, 3))          # [[0. 0. 0.] [0. 0. 0.]]  -- 2x3 matrix filled with 0s\n",
        "ones = np.ones((3, 3))            # [[1. 1. 1.] [1. 1. 1.]] -- 3x3 matrix filled with 1s\n",
        "identity_matrix = np.eye(3)       # [[1. 0. 0.] [0. 1. 0.] [0. 0. 1.]] -- 3x3 identity matrix\n",
        "\n",
        "print(arr, arr_linspace, zeros, ones, identity_matrix)"
      ],
      "metadata": {
        "colab": {
          "base_uri": "https://localhost:8080/"
        },
        "id": "GKpmrHLh4GSh",
        "outputId": "32e3399f-fc38-4ba9-941d-97fd8b97c075"
      },
      "execution_count": null,
      "outputs": [
        {
          "output_type": "stream",
          "name": "stdout",
          "text": [
            "[1 3 5 7 9] [0.   0.25 0.5  0.75 1.  ] [[0. 0. 0.]\n",
            " [0. 0. 0.]] [[1. 1. 1.]\n",
            " [1. 1. 1.]\n",
            " [1. 1. 1.]] [[1. 0. 0.]\n",
            " [0. 1. 0.]\n",
            " [0. 0. 1.]]\n"
          ]
        }
      ]
    },
    {
      "cell_type": "markdown",
      "source": [
        "**Shape, Size, and Dimensionality of Arrays**"
      ],
      "metadata": {
        "id": "dPh_G8d45ttX"
      }
    },
    {
      "cell_type": "code",
      "source": [
        "# Checking Properties of an Array\n",
        "arr = np.array([[1, 2, 3], [4, 5, 6]])\n",
        "\n",
        "print(arr.shape)  # (2, 3)\n",
        "print(arr.size)   # 6\n",
        "print(arr.ndim)   # 2\n",
        "print(arr.dtype)  # int64 (or int32 depends on system)"
      ],
      "metadata": {
        "colab": {
          "base_uri": "https://localhost:8080/"
        },
        "id": "kMiHfFGe4yYx",
        "outputId": "3103e374-9b66-4be3-db9a-195ab91add82"
      },
      "execution_count": null,
      "outputs": [
        {
          "output_type": "stream",
          "name": "stdout",
          "text": [
            "(2, 3)\n",
            "6\n",
            "2\n",
            "int64\n"
          ]
        }
      ]
    },
    {
      "cell_type": "markdown",
      "source": [
        "**Indexing and Slicing**"
      ],
      "metadata": {
        "id": "BZpixyio6fct"
      }
    },
    {
      "cell_type": "code",
      "source": [],
      "metadata": {
        "id": "l8hleOjH6Ciq"
      },
      "execution_count": null,
      "outputs": []
    }
  ]
}