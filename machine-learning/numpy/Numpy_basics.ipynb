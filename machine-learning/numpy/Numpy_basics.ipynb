{
  "cells": [
    {
      "cell_type": "code",
      "execution_count": 1,
      "metadata": {
        "id": "2fBbw0kv3MsQ"
      },
      "outputs": [],
      "source": [
        "import numpy as np"
      ]
    },
    {
      "cell_type": "markdown",
      "metadata": {
        "id": "9a6IYPIP3fub"
      },
      "source": [
        "**Creating Numpy Arrays**"
      ]
    },
    {
      "cell_type": "code",
      "execution_count": 4,
      "metadata": {
        "colab": {
          "base_uri": "https://localhost:8080/"
        },
        "id": "vCVBZ2vt3eNM",
        "outputId": "a4e4787c-8568-4c5e-f08d-436236724703"
      },
      "outputs": [
        {
          "name": "stdout",
          "output_type": "stream",
          "text": [
            "[1 2 3 4]\n",
            "[[1 2 3]\n",
            " [4 5 6]]\n"
          ]
        }
      ],
      "source": [
        "arr1 = np.array([1, 2, 3, 4])   # 1D array\n",
        "arr2 = np.array([ [1, 2, 3], [4, 5, 6] ])  # 2D array\n",
        "\n",
        "print(arr1)\n",
        "print(arr2)"
      ]
    },
    {
      "cell_type": "markdown",
      "metadata": {
        "id": "q3X5hkZA4U19"
      },
      "source": [
        "**Using: np.arange(), np.linspace(), np.zeros(), np.ones(), np.eye()**"
      ]
    },
    {
      "cell_type": "code",
      "execution_count": 6,
      "metadata": {
        "colab": {
          "base_uri": "https://localhost:8080/"
        },
        "id": "GKpmrHLh4GSh",
        "outputId": "dd05efc6-d465-425c-a290-4090ab5fb23e"
      },
      "outputs": [
        {
          "name": "stdout",
          "output_type": "stream",
          "text": [
            "[1 3 5 7 9] [0.   0.25 0.5  0.75 1.  ] [[0. 0. 0.]\n",
            " [0. 0. 0.]] [[1. 1. 1.]\n",
            " [1. 1. 1.]\n",
            " [1. 1. 1.]] [[1. 0. 0.]\n",
            " [0. 1. 0.]\n",
            " [0. 0. 1.]]\n"
          ]
        }
      ],
      "source": [
        "arr = np.arange(1, 10, 2)   # [1, 3, 5, 7, 9]\n",
        "arr_linspace = np.linspace(0, 1, 5)  # [0. 0.25 0.5 0.75 1.]\n",
        "zeros = np.zeros((2, 3))          # [[0. 0. 0.] [0. 0. 0.]]  -- 2x3 matrix filled with 0s\n",
        "ones = np.ones((3, 3))            # [[1. 1. 1.] [1. 1. 1.]] -- 3x3 matrix filled with 1s\n",
        "identity_matrix = np.eye(3)       # [[1. 0. 0.] [0. 1. 0.] [0. 0. 1.]] -- 3x3 identity matrix\n",
        "\n",
        "print(arr, arr_linspace, zeros, ones, identity_matrix)"
      ]
    },
    {
      "cell_type": "markdown",
      "metadata": {
        "id": "dPh_G8d45ttX"
      },
      "source": [
        "**Shape, Size, and Dimensionality of Arrays**"
      ]
    },
    {
      "cell_type": "markdown",
      "metadata": {
        "id": "VMkQSgbD18zk"
      },
      "source": [
        "Checking Properties of an Array"
      ]
    },
    {
      "cell_type": "code",
      "execution_count": 7,
      "metadata": {
        "colab": {
          "base_uri": "https://localhost:8080/"
        },
        "id": "kMiHfFGe4yYx",
        "outputId": "44bb85ae-201e-4a23-ea1f-b81d06748b98"
      },
      "outputs": [
        {
          "name": "stdout",
          "output_type": "stream",
          "text": [
            "(2, 3)\n",
            "6\n",
            "2\n",
            "int64\n"
          ]
        }
      ],
      "source": [
        "arr = np.array([[1, 2, 3], [4, 5, 6]])\n",
        "\n",
        "print(arr.shape)  # (2, 3)\n",
        "print(arr.size)   # 6\n",
        "print(arr.ndim)   # 2\n",
        "print(arr.dtype)  # int64 (or int32 depends on system)"
      ]
    },
    {
      "cell_type": "markdown",
      "metadata": {
        "id": "BZpixyio6fct"
      },
      "source": [
        "**Indexing and Slicing**"
      ]
    },
    {
      "cell_type": "markdown",
      "metadata": {
        "id": "jQ8mrPEI14iY"
      },
      "source": [
        "Basic indexing"
      ]
    },
    {
      "cell_type": "code",
      "execution_count": 8,
      "metadata": {
        "colab": {
          "base_uri": "https://localhost:8080/"
        },
        "id": "l8hleOjH6Ciq",
        "outputId": "89bd13c9-f1a7-4008-c66c-150b68065965"
      },
      "outputs": [
        {
          "name": "stdout",
          "output_type": "stream",
          "text": [
            "10\n",
            "50\n"
          ]
        }
      ],
      "source": [
        "arr = np.array([10, 20, 30, 40, 50])\n",
        "print(arr[0])   # 10\n",
        "print(arr[-1])  # 50"
      ]
    },
    {
      "cell_type": "markdown",
      "metadata": {
        "id": "1P5YISbD1yCJ"
      },
      "source": [
        "2D Indexing"
      ]
    },
    {
      "cell_type": "code",
      "execution_count": 12,
      "metadata": {
        "colab": {
          "base_uri": "https://localhost:8080/"
        },
        "id": "q4hlUta9-z3g",
        "outputId": "3d79924b-dadd-45df-a12a-dbfc89565cc8"
      },
      "outputs": [
        {
          "name": "stdout",
          "output_type": "stream",
          "text": [
            "2\n",
            "[2 5]\n"
          ]
        }
      ],
      "source": [
        "arr2D = np.array([ [1, 2, 3], [4, 5, 6] ])\n",
        "print(arr2D[0, 1])     # 2 (Row 0, Column 1)\n",
        "print(arr2D[:, 1])     # [2 5]  (All rows, Column 1)"
      ]
    },
    {
      "cell_type": "markdown",
      "metadata": {
        "id": "zFYEqWer11dd"
      },
      "source": [
        "Slicing"
      ]
    },
    {
      "cell_type": "code",
      "execution_count": 13,
      "metadata": {
        "colab": {
          "base_uri": "https://localhost:8080/"
        },
        "id": "S01O-m3y_WGp",
        "outputId": "da7a4e9a-0d6e-4e37-9eb2-099d0c577819"
      },
      "outputs": [
        {
          "name": "stdout",
          "output_type": "stream",
          "text": [
            "[20 30 40]\n",
            "[50 40 30 20 10]\n"
          ]
        }
      ],
      "source": [
        "arr = np.array([10, 20, 30, 40, 50])\n",
        "print(arr[1:4])      # [20 30 40]\n",
        "print(arr[::-1])     # [50 40 30 20 10]"
      ]
    },
    {
      "cell_type": "markdown",
      "metadata": {
        "id": "qNLTwpqtAMTE"
      },
      "source": [
        "**Broadcasting and Vectorized Operations**"
      ]
    },
    {
      "cell_type": "markdown",
      "metadata": {
        "id": "l3dRW6e6AZq_"
      },
      "source": [
        "Element-wise Operations"
      ]
    },
    {
      "cell_type": "code",
      "execution_count": 16,
      "metadata": {
        "colab": {
          "base_uri": "https://localhost:8080/"
        },
        "id": "QZG4827i_5NY",
        "outputId": "8e7113cb-d1be-4a34-9cf6-60855a9d5942"
      },
      "outputs": [
        {
          "name": "stdout",
          "output_type": "stream",
          "text": [
            "[5 7 9]\n",
            "[ 4 10 18]\n",
            "[1 4 9]\n"
          ]
        }
      ],
      "source": [
        "a = np.array([1, 2, 3])\n",
        "b = np.array([4, 5, 6])\n",
        "\n",
        "print(a + b)\n",
        "print(a * b)\n",
        "print(a ** 2)"
      ]
    },
    {
      "cell_type": "markdown",
      "metadata": {
        "id": "GmEu0lh1BFGk"
      },
      "source": [
        "Broadcasting Example"
      ]
    },
    {
      "cell_type": "code",
      "execution_count": 17,
      "metadata": {
        "colab": {
          "base_uri": "https://localhost:8080/"
        },
        "id": "y1kItxuDAq3x",
        "outputId": "dcb580a7-686d-495a-d1bb-5cac6b1a122d"
      },
      "outputs": [
        {
          "name": "stdout",
          "output_type": "stream",
          "text": [
            "[[5 6 7]\n",
            " [6 7 8]\n",
            " [7 8 9]]\n"
          ]
        }
      ],
      "source": [
        "A = np.array([[1], [2], [3]])   # Shape(3, 1)\n",
        "B = np.array([4, 5, 6])         # Shape(1, 3)\n",
        "\n",
        "print(A + B)\n",
        "# output\n",
        "# [[5 6 7]\n",
        "#  [6 7 8]\n",
        "#  [7 8 9]]"
      ]
    },
    {
      "cell_type": "markdown",
      "metadata": {
        "id": "DKvyjFIuBtNU"
      },
      "source": [
        "**Mathematical Functions**"
      ]
    },
    {
      "cell_type": "code",
      "execution_count": 20,
      "metadata": {
        "colab": {
          "base_uri": "https://localhost:8080/"
        },
        "id": "80eBN7AxBVnh",
        "outputId": "62bea08c-af0d-4947-f4d5-1e78e765a015"
      },
      "outputs": [
        {
          "name": "stdout",
          "output_type": "stream",
          "text": [
            "15\n",
            "3.0\n",
            "1.4142135623730951\n",
            "5\n",
            "1\n"
          ]
        }
      ],
      "source": [
        "arr = np.array([1, 2, 3, 4, 5])\n",
        "\n",
        "print(np.sum(arr))     # 15\n",
        "print(np.mean(arr))    # 3.0\n",
        "print(np.std(arr))     # 1.4142 (Standard deviation or std)\n",
        "print(np.max(arr))     # 5\n",
        "print(np.min(arr))     # 1"
      ]
    },
    {
      "cell_type": "markdown",
      "metadata": {
        "id": "wo3iwd1Fx18t"
      },
      "source": [
        "**Linear Algebra Operations**"
      ]
    },
    {
      "cell_type": "markdown",
      "metadata": {
        "id": "kGz_Vp08x77J"
      },
      "source": [
        "Matrix Multiplication (np.dot())"
      ]
    },
    {
      "cell_type": "code",
      "execution_count": 3,
      "metadata": {
        "colab": {
          "base_uri": "https://localhost:8080/"
        },
        "id": "tKbFCeFRCCcR",
        "outputId": "36f149c1-3c45-4e72-a6aa-0f467e77ad81"
      },
      "outputs": [
        {
          "name": "stdout",
          "output_type": "stream",
          "text": [
            "[[19 22]\n",
            " [43 50]]\n"
          ]
        }
      ],
      "source": [
        "A = np.array([ [1, 2], [3, 4] ])\n",
        "B = np.array([ [5, 6], [7, 8] ])\n",
        "\n",
        "print(np.dot(A, B))\n",
        "# output\n",
        "# [[19 22]\n",
        "# [43 50]]"
      ]
    },
    {
      "cell_type": "markdown",
      "metadata": {
        "id": "jMpROoERylu6"
      },
      "source": [
        "Matrix Inversion"
      ]
    },
    {
      "cell_type": "code",
      "execution_count": 5,
      "metadata": {
        "colab": {
          "base_uri": "https://localhost:8080/"
        },
        "id": "b-gsahHtyOK5",
        "outputId": "dce8451f-c050-4ce7-9df5-8d1acb298342"
      },
      "outputs": [
        {
          "name": "stdout",
          "output_type": "stream",
          "text": [
            "[[-2.   1. ]\n",
            " [ 1.5 -0.5]]\n"
          ]
        }
      ],
      "source": [
        "A = np.array([ [1, 2], [3, 4] ])\n",
        "A_inv = np.linalg.inv(A)\n",
        "print(A_inv)"
      ]
    },
    {
      "cell_type": "markdown",
      "metadata": {
        "id": "cAMhmnJay--h"
      },
      "source": [
        "Eigenvalues and Eigenvectors"
      ]
    },
    {
      "cell_type": "code",
      "execution_count": 8,
      "metadata": {
        "colab": {
          "base_uri": "https://localhost:8080/"
        },
        "id": "phhJ4pSQyynh",
        "outputId": "32a76dae-8b0d-4d8f-9b80-399460c64c88"
      },
      "outputs": [
        {
          "name": "stdout",
          "output_type": "stream",
          "text": [
            "Eigenvalues: [-0.37228132  5.37228132]\n",
            "Eigenvectors:\n",
            " [[-0.82456484 -0.41597356]\n",
            " [ 0.56576746 -0.90937671]]\n"
          ]
        }
      ],
      "source": [
        "vals, vecs = np.linalg.eig(A)\n",
        "print('Eigenvalues:', vals)\n",
        "print('Eigenvectors:\\n', vecs)"
      ]
    },
    {
      "cell_type": "markdown",
      "metadata": {
        "id": "Ib5M-KhgzYUX"
      },
      "source": [
        "**Random Number Generation**"
      ]
    },
    {
      "cell_type": "code",
      "execution_count": 10,
      "metadata": {
        "colab": {
          "base_uri": "https://localhost:8080/"
        },
        "id": "zy56HDMczL2x",
        "outputId": "e8505bab-7415-4f9f-8db2-a04f4988b9b6"
      },
      "outputs": [
        {
          "name": "stdout",
          "output_type": "stream",
          "text": [
            "[0.94956703 0.52932682 0.81458025] [[1 9]\n",
            " [5 5]]\n"
          ]
        }
      ],
      "source": [
        "rand_num = np.random.rand(3)                     # 3 random numbers between 0 and 1\n",
        "rand_ints = np.random.randint(1, 10, (2, 2))     # 2x2 matrix with random integers\n",
        "\n",
        "print(rand_num, rand_ints)"
      ]
    },
    {
      "cell_type": "markdown",
      "metadata": {
        "id": "9JMq8f9Hz6qv"
      },
      "source": [
        "**Handling Missing Values**"
      ]
    },
    {
      "cell_type": "code",
      "execution_count": 11,
      "metadata": {
        "colab": {
          "base_uri": "https://localhost:8080/"
        },
        "id": "joUOjej-ztHZ",
        "outputId": "208c9913-d6f9-4a0a-ab4c-5103ef58c64d"
      },
      "outputs": [
        {
          "name": "stdout",
          "output_type": "stream",
          "text": [
            "2.3333333333333335\n"
          ]
        }
      ],
      "source": [
        "arr = np.array([1, 2, np.nan, 4])\n",
        "print(np.nanmean(arr))     # Ignores NaN while calculating mean"
      ]
    },
    {
      "cell_type": "markdown",
      "metadata": {
        "id": "Gm491FCz0Mw-"
      },
      "source": [
        "**Performance Optimization**"
      ]
    },
    {
      "cell_type": "code",
      "execution_count": 12,
      "metadata": {
        "colab": {
          "base_uri": "https://localhost:8080/"
        },
        "id": "whpwJTV20F3Z",
        "outputId": "9c81c114-beab-4642-b84f-7813ef1edd40"
      },
      "outputs": [
        {
          "name": "stdout",
          "output_type": "stream",
          "text": [
            "Numpy sum: 0.0011301040649414062\n"
          ]
        }
      ],
      "source": [
        "import time\n",
        "\n",
        "arr = np.random.rand(1000000)\n",
        "\n",
        "start = time.time()\n",
        "sum1 = np.sum(arr)      # Fast Numpy operation\n",
        "end = time.time()\n",
        "print('Numpy sum:', end - start)"
      ]
    },
    {
      "cell_type": "markdown",
      "metadata": {
        "id": "H8nK3rdF03jd"
      },
      "source": [
        "**Memory Layout and Strides**"
      ]
    },
    {
      "cell_type": "code",
      "execution_count": 16,
      "metadata": {
        "colab": {
          "base_uri": "https://localhost:8080/"
        },
        "id": "w5n2e_610xXT",
        "outputId": "21900e5f-d941-4d4e-987c-022a6a149cb8"
      },
      "outputs": [
        {
          "name": "stdout",
          "output_type": "stream",
          "text": [
            "(12, 4)\n",
            "(24, 8)\n"
          ]
        }
      ],
      "source": [
        "# Memory step size in bytes\n",
        "arr1 = np.array([[1, 2, 3], [4, 5, 6]], dtype=np.int32)\n",
        "arr2 = np.array([[1, 2, 3], [4, 5, 6]], dtype=np.int64)\n",
        "print(arr1.strides)\n",
        "print(arr2.strides)"
      ]
    },
    {
      "cell_type": "code",
      "execution_count": null,
      "metadata": {
        "id": "ncBd4zuQ1JES"
      },
      "outputs": [],
      "source": []
    }
  ],
  "metadata": {
    "colab": {
      "provenance": []
    },
    "kernelspec": {
      "display_name": "Python 3",
      "name": "python3"
    },
    "language_info": {
      "name": "python"
    }
  },
  "nbformat": 4,
  "nbformat_minor": 0
}
